{
 "cells": [
  {
   "cell_type": "code",
   "execution_count": 1,
   "metadata": {},
   "outputs": [
    {
     "name": "stderr",
     "output_type": "stream",
     "text": [
      "Using TensorFlow backend.\n"
     ]
    }
   ],
   "source": [
    "import csv\n",
    "import math\n",
    "import pandas as pd\n",
    "import cv2\n",
    "import matplotlib.pyplot as plt\n",
    "\n",
    "import numpy as np\n",
    "from keras.preprocessing import image\n",
    "from keras.models import Model, load_model\n",
    "from keras.applications.resnet50 import ResNet50, preprocess_input\n",
    "from keras.callbacks import ModelCheckpoint, EarlyStopping\n",
    "from keras.layers import Conv2D, Reshape, Dense\n",
    "from keras.utils import Sequence"
   ]
  },
  {
   "cell_type": "code",
   "execution_count": 2,
   "metadata": {},
   "outputs": [],
   "source": [
    "IMAGE_SIZE = 224\n",
    "EPOCHS = 100\n",
    "BATCH_SIZE = 32"
   ]
  },
  {
   "cell_type": "code",
   "execution_count": null,
   "metadata": {},
   "outputs": [],
   "source": []
  },
  {
   "cell_type": "markdown",
   "metadata": {},
   "source": [
    "## Pandas  Method"
   ]
  },
  {
   "cell_type": "code",
   "execution_count": 4,
   "metadata": {},
   "outputs": [],
   "source": [
    "train_df = pd.read_csv(\"train.csv\")"
   ]
  },
  {
   "cell_type": "code",
   "execution_count": 5,
   "metadata": {},
   "outputs": [],
   "source": [
    "my_paths = list(train_df['path'])"
   ]
  },
  {
   "cell_type": "code",
   "execution_count": 6,
   "metadata": {},
   "outputs": [],
   "source": [
    "my_coords = np.zeros((train_df.shape[0],4))"
   ]
  },
  {
   "cell_type": "code",
   "execution_count": 7,
   "metadata": {},
   "outputs": [],
   "source": [
    "index = 0\n",
    "def extract_values(row):\n",
    "    global index\n",
    "    path, image_height, image_width, x0, y0, x1, y1, _, _ = row\n",
    "    my_coords[index, 0] = x0 * IMAGE_SIZE / image_width\n",
    "    my_coords[index, 1] = y0 * IMAGE_SIZE / image_height\n",
    "    my_coords[index, 2] = (x1-x0) * IMAGE_SIZE / image_width\n",
    "    my_coords[index, 3] = (y1-y0) * IMAGE_SIZE / image_height\n",
    "    index+=1"
   ]
  },
  {
   "cell_type": "code",
   "execution_count": 10,
   "metadata": {},
   "outputs": [
    {
     "data": {
      "text/plain": [
       "0       None\n",
       "1       None\n",
       "2       None\n",
       "3       None\n",
       "4       None\n",
       "5       None\n",
       "6       None\n",
       "7       None\n",
       "8       None\n",
       "9       None\n",
       "10      None\n",
       "11      None\n",
       "12      None\n",
       "13      None\n",
       "14      None\n",
       "15      None\n",
       "16      None\n",
       "17      None\n",
       "18      None\n",
       "19      None\n",
       "20      None\n",
       "21      None\n",
       "22      None\n",
       "23      None\n",
       "24      None\n",
       "25      None\n",
       "26      None\n",
       "27      None\n",
       "28      None\n",
       "29      None\n",
       "        ... \n",
       "2954    None\n",
       "2955    None\n",
       "2956    None\n",
       "2957    None\n",
       "2958    None\n",
       "2959    None\n",
       "2960    None\n",
       "2961    None\n",
       "2962    None\n",
       "2963    None\n",
       "2964    None\n",
       "2965    None\n",
       "2966    None\n",
       "2967    None\n",
       "2968    None\n",
       "2969    None\n",
       "2970    None\n",
       "2971    None\n",
       "2972    None\n",
       "2973    None\n",
       "2974    None\n",
       "2975    None\n",
       "2976    None\n",
       "2977    None\n",
       "2978    None\n",
       "2979    None\n",
       "2980    None\n",
       "2981    None\n",
       "2982    None\n",
       "2983    None\n",
       "Length: 2984, dtype: object"
      ]
     },
     "execution_count": 10,
     "metadata": {},
     "output_type": "execute_result"
    }
   ],
   "source": [
    "train_df.apply(extract_values, axis=1)"
   ]
  },
  {
   "cell_type": "code",
   "execution_count": 11,
   "metadata": {},
   "outputs": [
    {
     "data": {
      "text/plain": [
       "array([[124.32      ,  40.32      ,  34.34666667,  48.16      ],\n",
       "       [ 43.008     ,  47.04      , 129.024     ,  83.328     ],\n",
       "       [ 85.84771574,  31.808     , 104.60913706,  87.808     ],\n",
       "       ...,\n",
       "       [100.8       ,  60.54054054,  37.184     ,  69.28528529],\n",
       "       [ 29.568     , 109.90933333,  99.008     ,  86.61333333],\n",
       "       [ 42.56      ,  12.544     ,  84.672     ,  90.79466667]])"
      ]
     },
     "execution_count": 11,
     "metadata": {},
     "output_type": "execute_result"
    }
   ],
   "source": [
    "my_coords"
   ]
  },
  {
   "cell_type": "code",
   "execution_count": null,
   "metadata": {},
   "outputs": [],
   "source": []
  },
  {
   "cell_type": "code",
   "execution_count": 12,
   "metadata": {},
   "outputs": [
    {
     "data": {
      "text/plain": [
       "94"
      ]
     },
     "execution_count": 12,
     "metadata": {},
     "output_type": "execute_result"
    }
   ],
   "source": [
    "math.ceil(len(my_coords)/ BATCH_SIZE)"
   ]
  },
  {
   "cell_type": "markdown",
   "metadata": {},
   "source": [
    "- total=> 2984\n",
    "- 1 batch => 32 imgs\n",
    "- ceil(2984/32)"
   ]
  },
  {
   "cell_type": "code",
   "execution_count": null,
   "metadata": {},
   "outputs": [],
   "source": []
  },
  {
   "cell_type": "code",
   "execution_count": 13,
   "metadata": {},
   "outputs": [],
   "source": [
    "#  Generate Data in Batches\n",
    "\n",
    "# def data_generator(NUM_OF_PHOTO_PER_BATCH):\n",
    "    \n",
    "#     for id_, path in enumerate(my_paths):\n",
    "        \n",
    "    \n",
    "#         batch_paths = my_paths[id_*NUM_OF_PHOTO_PER_BATCH : (id_+1)*NUM_OF_PHOTO_PER_BATCH]\n",
    "#         batch_coords = my_coords[id_*NUM_OF_PHOTO_PER_BATCH : (id_+1)*NUM_OF_PHOTO_PER_BATCH]\n",
    "        \n",
    "#         batch_images = np.zeros((len(batch_paths), IMAGE_SIZE, IMAGE_SIZE, 3 )).astype(\"float32\")\n",
    "\n",
    "#         for i , f in enumerate(batch_paths):\n",
    "#             img = image.load_img(f, target_size=(IMAGE_SIZE, IMAGE_SIZE), color_mode='rgb')\n",
    "#             img = image.img_to_array(img)\n",
    "\n",
    "#             batch_images[i] = preprocess_input(img)\n",
    "        \n",
    "\n",
    "#         if (id_+1)%32==0:\n",
    "#             yield [batch_images, batch_coords]"
   ]
  },
  {
   "cell_type": "code",
   "execution_count": null,
   "metadata": {},
   "outputs": [],
   "source": []
  },
  {
   "cell_type": "code",
   "execution_count": 14,
   "metadata": {},
   "outputs": [],
   "source": [
    "# Generate Data in one go\n",
    "\n",
    "def data_generator():\n",
    "    \n",
    "    batch_images = np.zeros((len(my_paths), IMAGE_SIZE, IMAGE_SIZE, 3 )).astype(\"float32\")\n",
    "    \n",
    "    \n",
    "    for id_, path in enumerate(my_paths):\n",
    "        \n",
    "        img = image.load_img(path, target_size=(IMAGE_SIZE, IMAGE_SIZE), color_mode='rgb')\n",
    "        img = image.img_to_array(img)\n",
    "\n",
    "        batch_images[id_] = preprocess_input(img)\n",
    "        if id_%100 == 0:\n",
    "            print(id_)\n",
    "        \n",
    "    return batch_images, my_coords"
   ]
  },
  {
   "cell_type": "code",
   "execution_count": 15,
   "metadata": {},
   "outputs": [
    {
     "name": "stdout",
     "output_type": "stream",
     "text": [
      "0\n",
      "100\n",
      "200\n",
      "300\n",
      "400\n",
      "500\n",
      "600\n",
      "700\n",
      "800\n",
      "900\n",
      "1000\n",
      "1100\n",
      "1200\n",
      "1300\n",
      "1400\n",
      "1500\n",
      "1600\n",
      "1700\n",
      "1800\n",
      "1900\n",
      "2000\n",
      "2100\n",
      "2200\n",
      "2300\n",
      "2400\n",
      "2500\n",
      "2600\n",
      "2700\n",
      "2800\n",
      "2900\n"
     ]
    }
   ],
   "source": [
    "imgs, coo = data_generator()"
   ]
  },
  {
   "cell_type": "code",
   "execution_count": 16,
   "metadata": {},
   "outputs": [],
   "source": [
    "np.save(\"storage/images.npy\", imgs)\n",
    "np.save(\"storage/coordinates.npy\", coo)"
   ]
  },
  {
   "cell_type": "code",
   "execution_count": null,
   "metadata": {},
   "outputs": [],
   "source": []
  },
  {
   "cell_type": "code",
   "execution_count": 17,
   "metadata": {},
   "outputs": [],
   "source": [
    "imgs = np.load(\"storage/images.npy\")\n",
    "coo = np.load(\"storage/coordinates.npy\")"
   ]
  },
  {
   "cell_type": "code",
   "execution_count": 29,
   "metadata": {},
   "outputs": [
    {
     "name": "stdout",
     "output_type": "stream",
     "text": [
      "(2984, 224, 224, 3)\n",
      "(2984, 4)\n"
     ]
    }
   ],
   "source": [
    "print(imgs.shape)\n",
    "print(coo.shape)"
   ]
  },
  {
   "cell_type": "code",
   "execution_count": null,
   "metadata": {},
   "outputs": [],
   "source": []
  },
  {
   "cell_type": "code",
   "execution_count": 69,
   "metadata": {},
   "outputs": [],
   "source": [
    "def create_model():\n",
    "\n",
    "    model = ResNet50(input_shape=(IMAGE_SIZE, IMAGE_SIZE, 3), include_top=True)\n",
    "\n",
    "    # to freeze layers\n",
    "    for layer in model.layers:\n",
    "        layer.trainable = False\n",
    "\n",
    "    x = model.layers[-2].output\n",
    "    x = Dense(4, name=\"coords\", activation='linear')(x)\n",
    "\n",
    "    model_new = Model(inputs=model.input, outputs=x)\n",
    "    return model_new"
   ]
  },
  {
   "cell_type": "code",
   "execution_count": 70,
   "metadata": {},
   "outputs": [],
   "source": [
    "model = create_model()"
   ]
  },
  {
   "cell_type": "code",
   "execution_count": 71,
   "metadata": {},
   "outputs": [],
   "source": [
    "# model.summary()"
   ]
  },
  {
   "cell_type": "code",
   "execution_count": 72,
   "metadata": {},
   "outputs": [],
   "source": [
    "model.compile(optimizer='adam', loss=\"mean_squared_error\", metrics=['accuracy'])"
   ]
  },
  {
   "cell_type": "code",
   "execution_count": null,
   "metadata": {},
   "outputs": [],
   "source": []
  },
  {
   "cell_type": "code",
   "execution_count": 73,
   "metadata": {},
   "outputs": [],
   "source": [
    "filepath = \"./model/weights-improvement-{epoch:02d}.hdf5\"\n",
    "\n",
    "model_checkpoint = ModelCheckpoint(filepath, monitor='val_loss', verbose=0, save_best_only=True, mode='min')\n",
    "earlystop = EarlyStopping(monitor='val_loss', min_delta=3, patience=5,verbose=1, mode='min', restore_best_weights=True)\n",
    "callbacks_list = [model_checkpoint, earlystop]"
   ]
  },
  {
   "cell_type": "code",
   "execution_count": null,
   "metadata": {},
   "outputs": [],
   "source": []
  },
  {
   "cell_type": "code",
   "execution_count": 74,
   "metadata": {
    "scrolled": true
   },
   "outputs": [
    {
     "name": "stdout",
     "output_type": "stream",
     "text": [
      "Train on 2834 samples, validate on 150 samples\n",
      "Epoch 1/100\n",
      "2834/2834 [==============================] - 29s 10ms/step - loss: 3917.8921 - acc: 0.3709 - val_loss: 1651.0889 - val_acc: 0.4867\n",
      "Epoch 2/100\n",
      "2834/2834 [==============================] - 24s 8ms/step - loss: 1741.2304 - acc: 0.4337 - val_loss: 1358.4411 - val_acc: 0.4800\n",
      "Epoch 3/100\n",
      "2834/2834 [==============================] - 24s 8ms/step - loss: 1521.8888 - acc: 0.4340 - val_loss: 1287.2765 - val_acc: 0.4800\n",
      "Epoch 4/100\n",
      "2834/2834 [==============================] - 24s 8ms/step - loss: 1402.3209 - acc: 0.4453 - val_loss: 1195.4860 - val_acc: 0.4933\n",
      "Epoch 5/100\n",
      "2834/2834 [==============================] - 24s 8ms/step - loss: 1299.4487 - acc: 0.5127 - val_loss: 1115.8163 - val_acc: 0.5200\n",
      "Epoch 6/100\n",
      "2834/2834 [==============================] - 24s 8ms/step - loss: 1200.0788 - acc: 0.5565 - val_loss: 1035.1584 - val_acc: 0.5600\n",
      "Epoch 7/100\n",
      "2834/2834 [==============================] - 24s 8ms/step - loss: 1102.3424 - acc: 0.6048 - val_loss: 956.8233 - val_acc: 0.6200\n",
      "Epoch 8/100\n",
      "2834/2834 [==============================] - 24s 8ms/step - loss: 1026.1261 - acc: 0.6351 - val_loss: 910.6536 - val_acc: 0.6400\n",
      "Epoch 9/100\n",
      "2834/2834 [==============================] - 24s 8ms/step - loss: 947.8625 - acc: 0.6542 - val_loss: 853.7780 - val_acc: 0.6533\n",
      "Epoch 10/100\n",
      "2834/2834 [==============================] - 24s 8ms/step - loss: 882.0623 - acc: 0.6838 - val_loss: 826.3539 - val_acc: 0.6533\n",
      "Epoch 11/100\n",
      "2834/2834 [==============================] - 24s 8ms/step - loss: 825.7446 - acc: 0.6853 - val_loss: 794.8251 - val_acc: 0.6800\n",
      "Epoch 12/100\n",
      "2834/2834 [==============================] - 24s 9ms/step - loss: 773.7453 - acc: 0.6969 - val_loss: 785.2056 - val_acc: 0.6733\n",
      "Epoch 13/100\n",
      "2834/2834 [==============================] - 31s 11ms/step - loss: 733.3392 - acc: 0.7050 - val_loss: 759.5389 - val_acc: 0.6867\n",
      "Epoch 14/100\n",
      "2834/2834 [==============================] - 24s 9ms/step - loss: 693.9324 - acc: 0.7085 - val_loss: 782.9728 - val_acc: 0.6800\n",
      "Epoch 15/100\n",
      "2834/2834 [==============================] - 24s 8ms/step - loss: 665.2345 - acc: 0.7117 - val_loss: 740.4661 - val_acc: 0.6933\n",
      "Epoch 16/100\n",
      "2834/2834 [==============================] - 24s 8ms/step - loss: 639.3200 - acc: 0.7195 - val_loss: 752.2144 - val_acc: 0.7000\n",
      "Epoch 17/100\n",
      "2834/2834 [==============================] - 24s 8ms/step - loss: 609.9492 - acc: 0.7223 - val_loss: 740.4366 - val_acc: 0.7200\n",
      "Epoch 18/100\n",
      "2834/2834 [==============================] - 24s 9ms/step - loss: 586.8319 - acc: 0.7191 - val_loss: 715.3430 - val_acc: 0.7133\n",
      "Epoch 19/100\n",
      "2834/2834 [==============================] - 24s 9ms/step - loss: 572.5538 - acc: 0.7258 - val_loss: 731.1547 - val_acc: 0.7267\n",
      "Epoch 20/100\n",
      "2834/2834 [==============================] - 24s 9ms/step - loss: 557.0043 - acc: 0.7301 - val_loss: 746.4861 - val_acc: 0.7200\n",
      "Epoch 21/100\n",
      "2834/2834 [==============================] - 24s 8ms/step - loss: 547.3390 - acc: 0.7287 - val_loss: 743.5010 - val_acc: 0.7333\n",
      "Epoch 22/100\n",
      "2834/2834 [==============================] - 24s 8ms/step - loss: 521.3863 - acc: 0.7371 - val_loss: 799.1081 - val_acc: 0.7200\n",
      "Epoch 23/100\n",
      "2834/2834 [==============================] - 24s 8ms/step - loss: 517.2819 - acc: 0.7265 - val_loss: 777.1311 - val_acc: 0.7200\n",
      "Restoring model weights from the end of the best epoch\n",
      "Epoch 00023: early stopping\n"
     ]
    }
   ],
   "source": [
    "hist = model.fit(imgs, coo, batch_size=BATCH_SIZE, epochs=EPOCHS, callbacks=callbacks_list, validation_split=0.05)"
   ]
  },
  {
   "cell_type": "code",
   "execution_count": 35,
   "metadata": {},
   "outputs": [
    {
     "data": {
      "image/png": "[encoded data removed]",
      "text/plain": [
       "<Figure size 432x288 with 1 Axes>"
      ]
     },
     "metadata": {
      "needs_background": "light"
     },
     "output_type": "display_data"
    }
   ],
   "source": [
    "plt.plot(history.history['loss'], label=\"training loss\")\n",
    "plt.plot(history.history['val_loss'], label= \"val loss\")\n",
    "plt.legend()\n",
    "plt.show()"
   ]
  },
  {
   "cell_type": "code",
   "execution_count": 36,
   "metadata": {},
   "outputs": [
    {
     "data": {
      "image/png": "[encoded data removed]",
      "text/plain": [
       "<Figure size 432x288 with 1 Axes>"
      ]
     },
     "metadata": {
      "needs_background": "light"
     },
     "output_type": "display_data"
    }
   ],
   "source": [
    "plt.plot(history.history['acc'], label=\"training acc\")\n",
    "plt.plot(history.history['val_acc'], label= \"val acc\")\n",
    "plt.legend()\n",
    "plt.show()"
   ]
  },
  {
   "cell_type": "code",
   "execution_count": null,
   "metadata": {},
   "outputs": [],
   "source": []
  },
  {
   "cell_type": "code",
   "execution_count": null,
   "metadata": {},
   "outputs": [],
   "source": []
  },
  {
   "cell_type": "markdown",
   "metadata": {},
   "source": [
    "# Test Images"
   ]
  },
  {
   "cell_type": "code",
   "execution_count": 3,
   "metadata": {},
   "outputs": [
    {
     "name": "stdout",
     "output_type": "stream",
     "text": [
      "WARNING:tensorflow:From C:\\Users\\Mohit Uniyal\\Anaconda3\\lib\\site-packages\\tensorflow\\python\\framework\\op_def_library.py:263: colocate_with (from tensorflow.python.framework.ops) is deprecated and will be removed in a future version.\n",
      "Instructions for updating:\n",
      "Colocations handled automatically by placer.\n",
      "WARNING:tensorflow:From C:\\Users\\Mohit Uniyal\\Anaconda3\\lib\\site-packages\\tensorflow\\python\\ops\\math_ops.py:3066: to_int32 (from tensorflow.python.ops.math_ops) is deprecated and will be removed in a future version.\n",
      "Instructions for updating:\n",
      "Use tf.cast instead.\n"
     ]
    }
   ],
   "source": [
    "model = load_model(\"model/best_model.hdf5\")"
   ]
  },
  {
   "cell_type": "code",
   "execution_count": null,
   "metadata": {},
   "outputs": [],
   "source": []
  },
  {
   "cell_type": "code",
   "execution_count": null,
   "metadata": {},
   "outputs": [],
   "source": []
  },
  {
   "cell_type": "code",
   "execution_count": 4,
   "metadata": {},
   "outputs": [],
   "source": [
    "val = pd.read_csv(\"validation.csv\")\n",
    "val_images = val['path'].values"
   ]
  },
  {
   "cell_type": "code",
   "execution_count": null,
   "metadata": {},
   "outputs": [],
   "source": []
  },
  {
   "cell_type": "code",
   "execution_count": 5,
   "metadata": {},
   "outputs": [],
   "source": [
    "def display_prediction(region, i, actual_coord):\n",
    "    x0 = int(region[0]* i.shape[1]/IMAGE_SIZE)\n",
    "    y0 = int(region[1]* i.shape[0]/IMAGE_SIZE)\n",
    "    x1 = int((region[0] + region[2])* i.shape[1]/IMAGE_SIZE)\n",
    "    y1 = int((region[1] + region[3])* i.shape[0]/IMAGE_SIZE)\n",
    "    \n",
    "    xmin, ymin, xmax, ymax = actual_coord\n",
    "    \n",
    "    cv2.rectangle(i, (x0,y0), (x1,y1), (255,0,0), 1)\n",
    "#     cv2.rectangle(i, (xmin,ymin), (xmax,ymax), (0,0,255), 1)\n",
    "    cv2.imshow(\"image\", i)\n",
    "    cv2.waitKey(0)\n",
    "    cv2.destroyAllWindows()\n",
    "    \n",
    "\n",
    "def predict_one(test_img, actual_coord):\n",
    "    i = image.load_img(test_img, color_mode='rgb')\n",
    "    i = image.img_to_array(i)\n",
    "    i = cv2.cvtColor(i, cv2.COLOR_BGR2RGB)\n",
    "    i = i/255.\n",
    "    \n",
    "    \n",
    "    img = image.load_img(test_img, target_size=(IMAGE_SIZE,IMAGE_SIZE), color_mode='rgb')\n",
    "    img = image.img_to_array(img)\n",
    "    img_fea = preprocess_input(img)\n",
    "    img_fea = np.expand_dims(img_fea, axis =0)\n",
    "    \n",
    "    region = model.predict(x = img_fea)[0]\n",
    "    display_prediction(region, i, actual_coord)    \n",
    "    "
   ]
  },
  {
   "cell_type": "code",
   "execution_count": null,
   "metadata": {},
   "outputs": [],
   "source": []
  },
  {
   "cell_type": "code",
   "execution_count": 6,
   "metadata": {},
   "outputs": [],
   "source": [
    "for _ in range(20):\n",
    "    rand_idx = np.random.randint(0, len(val_images))\n",
    "    test_img = val_images[rand_idx]\n",
    "    actual_coord = val[['xmin', 'ymin', 'xmax', ' ymax']].values[rand_idx]\n",
    "    predict_one(test_img, actual_coord)"
   ]
  },
  {
   "cell_type": "code",
   "execution_count": null,
   "metadata": {},
   "outputs": [],
   "source": []
  },
  {
   "cell_type": "code",
   "execution_count": null,
   "metadata": {},
   "outputs": [],
   "source": []
  }
 ],
 "metadata": {
  "kernelspec": {
   "display_name": "Python 3",
   "language": "python",
   "name": "python3"
  },
  "language_info": {
   "codemirror_mode": {
    "name": "ipython",
    "version": 3
   },
   "file_extension": ".py",
   "mimetype": "text/x-python",
   "name": "python",
   "nbconvert_exporter": "python",
   "pygments_lexer": "ipython3",
   "version": "3.7.3"
  }
 },
 "nbformat": 4,
 "nbformat_minor": 2
}
