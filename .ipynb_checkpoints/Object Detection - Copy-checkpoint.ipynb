{
 "cells": [
  {
   "cell_type": "code",
   "execution_count": 12,
   "metadata": {},
   "outputs": [],
   "source": [
    "import csv\n",
    "import math\n",
    "import pandas as pd\n",
    "import cv2\n",
    "import matplotlib.pyplot as plt\n",
    "\n",
    "import numpy as np\n",
    "from keras.preprocessing import image\n",
    "from keras.models import Model, load_model\n",
    "from keras.applications.resnet50 import ResNet50, preprocess_input\n",
    "from keras.callbacks import ModelCheckpoint, EarlyStopping\n",
    "from keras.layers import Conv2D, Reshape, Dense\n",
    "from keras.utils import Sequence"
   ]
  },
  {
   "cell_type": "code",
   "execution_count": 13,
   "metadata": {},
   "outputs": [],
   "source": [
    "IMAGE_SIZE = 224\n",
    "EPOCHS = 10\n",
    "BATCH_SIZE = 32"
   ]
  },
  {
   "cell_type": "code",
   "execution_count": null,
   "metadata": {},
   "outputs": [],
   "source": []
  },
  {
   "cell_type": "markdown",
   "metadata": {},
   "source": [
    "## Pandas  Method"
   ]
  },
  {
   "cell_type": "code",
   "execution_count": 14,
   "metadata": {},
   "outputs": [],
   "source": [
    "train_df = pd.read_csv(\"train - Copy.csv\")"
   ]
  },
  {
   "cell_type": "code",
   "execution_count": 15,
   "metadata": {},
   "outputs": [],
   "source": [
    "my_paths = list(train_df['path'])"
   ]
  },
  {
   "cell_type": "code",
   "execution_count": 16,
   "metadata": {},
   "outputs": [],
   "source": [
    "my_coords = np.zeros((train_df.shape[0],4))"
   ]
  },
  {
   "cell_type": "code",
   "execution_count": 17,
   "metadata": {},
   "outputs": [],
   "source": [
    "index = 0\n",
    "def extract_values(row):\n",
    "    global index\n",
    "    path, image_height, image_width, x0, y0, x1, y1, _, _ = row\n",
    "    my_coords[index, 0] = x0 * IMAGE_SIZE / image_width\n",
    "    my_coords[index, 1] = y0 * IMAGE_SIZE / image_height\n",
    "    my_coords[index, 2] = x1 * IMAGE_SIZE / image_width\n",
    "    my_coords[index, 3] = y1 * IMAGE_SIZE / image_height\n",
    "    index+=1"
   ]
  },
  {
   "cell_type": "code",
   "execution_count": null,
   "metadata": {},
   "outputs": [],
   "source": []
  },
  {
   "cell_type": "code",
   "execution_count": 18,
   "metadata": {},
   "outputs": [
    {
     "data": {
      "text/plain": [
       "0       None\n",
       "1       None\n",
       "2       None\n",
       "3       None\n",
       "4       None\n",
       "5       None\n",
       "6       None\n",
       "7       None\n",
       "8       None\n",
       "9       None\n",
       "10      None\n",
       "11      None\n",
       "12      None\n",
       "13      None\n",
       "14      None\n",
       "15      None\n",
       "16      None\n",
       "17      None\n",
       "18      None\n",
       "19      None\n",
       "20      None\n",
       "21      None\n",
       "22      None\n",
       "23      None\n",
       "24      None\n",
       "25      None\n",
       "26      None\n",
       "27      None\n",
       "28      None\n",
       "29      None\n",
       "        ... \n",
       "2954    None\n",
       "2955    None\n",
       "2956    None\n",
       "2957    None\n",
       "2958    None\n",
       "2959    None\n",
       "2960    None\n",
       "2961    None\n",
       "2962    None\n",
       "2963    None\n",
       "2964    None\n",
       "2965    None\n",
       "2966    None\n",
       "2967    None\n",
       "2968    None\n",
       "2969    None\n",
       "2970    None\n",
       "2971    None\n",
       "2972    None\n",
       "2973    None\n",
       "2974    None\n",
       "2975    None\n",
       "2976    None\n",
       "2977    None\n",
       "2978    None\n",
       "2979    None\n",
       "2980    None\n",
       "2981    None\n",
       "2982    None\n",
       "2983    None\n",
       "Length: 2984, dtype: object"
      ]
     },
     "execution_count": 18,
     "metadata": {},
     "output_type": "execute_result"
    }
   ],
   "source": [
    "train_df.apply(extract_values, axis=1)"
   ]
  },
  {
   "cell_type": "code",
   "execution_count": 19,
   "metadata": {},
   "outputs": [
    {
     "data": {
      "text/plain": [
       "array([[124.32      ,  40.32      , 158.66666667,  88.48      ],\n",
       "       [ 43.008     ,  47.04      , 172.032     , 130.368     ],\n",
       "       [ 85.84771574,  31.808     , 190.45685279, 119.616     ],\n",
       "       ...,\n",
       "       [100.8       ,  60.54054054, 137.984     , 129.82582583],\n",
       "       [ 29.568     , 109.90933333, 128.576     , 196.52266667],\n",
       "       [ 42.56      ,  12.544     , 127.232     , 103.33866667]])"
      ]
     },
     "execution_count": 19,
     "metadata": {},
     "output_type": "execute_result"
    }
   ],
   "source": [
    "my_coords"
   ]
  },
  {
   "cell_type": "code",
   "execution_count": null,
   "metadata": {},
   "outputs": [],
   "source": []
  },
  {
   "cell_type": "code",
   "execution_count": 20,
   "metadata": {},
   "outputs": [
    {
     "data": {
      "text/plain": [
       "94"
      ]
     },
     "execution_count": 20,
     "metadata": {},
     "output_type": "execute_result"
    }
   ],
   "source": [
    "math.ceil(len(my_coords)/ BATCH_SIZE)"
   ]
  },
  {
   "cell_type": "markdown",
   "metadata": {},
   "source": [
    "- total=> 2984\n",
    "- 1 batch => 32 imgs\n",
    "- ceil(2984/32)"
   ]
  },
  {
   "cell_type": "code",
   "execution_count": null,
   "metadata": {},
   "outputs": [],
   "source": []
  },
  {
   "cell_type": "code",
   "execution_count": 21,
   "metadata": {},
   "outputs": [],
   "source": [
    "#  Generate Data in Batches\n",
    "\n",
    "# def data_generator(NUM_OF_PHOTO_PER_BATCH):\n",
    "    \n",
    "#     for id_, path in enumerate(my_paths):\n",
    "        \n",
    "    \n",
    "#         batch_paths = my_paths[id_*NUM_OF_PHOTO_PER_BATCH : (id_+1)*NUM_OF_PHOTO_PER_BATCH]\n",
    "#         batch_coords = my_coords[id_*NUM_OF_PHOTO_PER_BATCH : (id_+1)*NUM_OF_PHOTO_PER_BATCH]\n",
    "        \n",
    "#         batch_images = np.zeros((len(batch_paths), IMAGE_SIZE, IMAGE_SIZE, 3 )).astype(\"float32\")\n",
    "\n",
    "#         for i , f in enumerate(batch_paths):\n",
    "#             img = image.load_img(f, target_size=(IMAGE_SIZE, IMAGE_SIZE), color_mode='rgb')\n",
    "#             img = image.img_to_array(img)\n",
    "\n",
    "#             batch_images[i] = preprocess_input(img)\n",
    "        \n",
    "#         print(batch_images.shape)\n",
    "#         print(batch_coords.shape)\n",
    "#         if (id_+1)%32==0:\n",
    "#             yield [batch_images, batch_coords]"
   ]
  },
  {
   "cell_type": "code",
   "execution_count": null,
   "metadata": {},
   "outputs": [],
   "source": []
  },
  {
   "cell_type": "code",
   "execution_count": 22,
   "metadata": {},
   "outputs": [],
   "source": [
    "# Generate Data in one go\n",
    "\n",
    "def data_generator():\n",
    "    \n",
    "    batch_images = np.zeros((len(my_paths), IMAGE_SIZE, IMAGE_SIZE, 3 )).astype(\"float32\")\n",
    "    \n",
    "    \n",
    "    for id_, path in enumerate(my_paths):\n",
    "        \n",
    "        img = image.load_img(path, target_size=(IMAGE_SIZE, IMAGE_SIZE), color_mode='rgb')\n",
    "        img = image.img_to_array(img)\n",
    "\n",
    "        batch_images[id_] = preprocess_input(img)\n",
    "        if id_%100 == 0:\n",
    "            print(id_)\n",
    "        \n",
    "    return batch_images, my_coords"
   ]
  },
  {
   "cell_type": "code",
   "execution_count": 23,
   "metadata": {},
   "outputs": [
    {
     "name": "stdout",
     "output_type": "stream",
     "text": [
      "0\n",
      "100\n",
      "200\n",
      "300\n",
      "400\n",
      "500\n",
      "600\n",
      "700\n",
      "800\n",
      "900\n",
      "1000\n",
      "1100\n",
      "1200\n",
      "1300\n",
      "1400\n",
      "1500\n",
      "1600\n",
      "1700\n",
      "1800\n",
      "1900\n",
      "2000\n",
      "2100\n",
      "2200\n",
      "2300\n",
      "2400\n",
      "2500\n",
      "2600\n",
      "2700\n",
      "2800\n",
      "2900\n"
     ]
    }
   ],
   "source": [
    "imgs, coo = data_generator()"
   ]
  },
  {
   "cell_type": "code",
   "execution_count": 26,
   "metadata": {},
   "outputs": [],
   "source": [
    "np.save(\"images.npy\", imgs)\n",
    "np.save(\"coordinates.npy\", coo)"
   ]
  },
  {
   "cell_type": "code",
   "execution_count": null,
   "metadata": {},
   "outputs": [],
   "source": []
  },
  {
   "cell_type": "code",
   "execution_count": 27,
   "metadata": {},
   "outputs": [],
   "source": [
    "imgs = np.load(\"images.npy\")"
   ]
  },
  {
   "cell_type": "code",
   "execution_count": 28,
   "metadata": {},
   "outputs": [],
   "source": [
    "coo = np.load(\"coordinates.npy\")"
   ]
  },
  {
   "cell_type": "code",
   "execution_count": null,
   "metadata": {},
   "outputs": [],
   "source": []
  },
  {
   "cell_type": "code",
   "execution_count": null,
   "metadata": {},
   "outputs": [],
   "source": []
  },
  {
   "cell_type": "code",
   "execution_count": 29,
   "metadata": {},
   "outputs": [],
   "source": [
    "def create_model():\n",
    "\n",
    "    model = ResNet50(input_shape=(IMAGE_SIZE, IMAGE_SIZE, 3), include_top=True)\n",
    "\n",
    "    # to freeze layers\n",
    "    for layer in model.layers:\n",
    "        layer.trainable = False\n",
    "\n",
    "    x = model.layers[-2].output\n",
    "    x = Dense(4, name=\"coords\", activation='linear')(x)\n",
    "\n",
    "    model_new = Model(inputs=model.input, outputs=x)\n",
    "    return model_new"
   ]
  },
  {
   "cell_type": "code",
   "execution_count": 30,
   "metadata": {},
   "outputs": [],
   "source": [
    "model = create_model()"
   ]
  },
  {
   "cell_type": "code",
   "execution_count": 31,
   "metadata": {},
   "outputs": [],
   "source": [
    "model.compile(optimizer='adam', loss=\"mean_squared_error\", metrics=['accuracy'])"
   ]
  },
  {
   "cell_type": "code",
   "execution_count": null,
   "metadata": {},
   "outputs": [],
   "source": []
  },
  {
   "cell_type": "code",
   "execution_count": 32,
   "metadata": {},
   "outputs": [],
   "source": [
    "filepath = \"./model/weights-improvement-{epoch:02d}-{loss:.04f}-bigger.hdf5\"\n",
    "\n",
    "model_checkpoint = ModelCheckpoint(filepath, monitor='loss', verbose=1, save_best_only=True, mode='min')\n",
    "earlystop = EarlyStopping(monitor='loss', min_delta=3, patience=5,verbose=1, mode='min', restore_best_weights=True)\n",
    "callbacks_list = [model_checkpoint, earlystop]"
   ]
  },
  {
   "cell_type": "code",
   "execution_count": 33,
   "metadata": {},
   "outputs": [],
   "source": [
    "# model.fit_generator(generator=train_datagen,\n",
    "#                         epochs=EPOCHS,\n",
    "#                         steps_per_epoch= 1000,\n",
    "#                         shuffle=True)"
   ]
  },
  {
   "cell_type": "code",
   "execution_count": 152,
   "metadata": {
    "scrolled": true
   },
   "outputs": [
    {
     "name": "stdout",
     "output_type": "stream",
     "text": [
      "Train on 2834 samples, validate on 150 samples\n",
      "Epoch 1/10\n",
      "2834/2834 [==============================] - 28s 10ms/step - loss: 665.7206 - acc: 0.7763 - val_loss: 983.3578 - val_acc: 0.6800\n",
      "\n",
      "Epoch 00001: loss improved from 669.66786 to 665.72055, saving model to ./model/weights-improvement-01-665.7206-bigger.hdf5\n",
      "Epoch 2/10\n",
      "2834/2834 [==============================] - 24s 9ms/step - loss: 653.9291 - acc: 0.7791 - val_loss: 1012.7477 - val_acc: 0.7000\n",
      "\n",
      "Epoch 00002: loss improved from 665.72055 to 653.92912, saving model to ./model/weights-improvement-02-653.9291-bigger.hdf5\n",
      "Epoch 3/10\n",
      "2834/2834 [==============================] - 25s 9ms/step - loss: 645.6979 - acc: 0.7830 - val_loss: 1018.6377 - val_acc: 0.7000\n",
      "\n",
      "Epoch 00003: loss improved from 653.92912 to 645.69787, saving model to ./model/weights-improvement-03-645.6979-bigger.hdf5\n",
      "Epoch 4/10\n",
      "2834/2834 [==============================] - 25s 9ms/step - loss: 639.2160 - acc: 0.7837 - val_loss: 1015.5782 - val_acc: 0.6867\n",
      "\n",
      "Epoch 00004: loss improved from 645.69787 to 639.21599, saving model to ./model/weights-improvement-04-639.2160-bigger.hdf5\n",
      "Epoch 5/10\n",
      "2834/2834 [==============================] - 25s 9ms/step - loss: 635.2221 - acc: 0.7837 - val_loss: 1005.0766 - val_acc: 0.6733\n",
      "\n",
      "Epoch 00005: loss improved from 639.21599 to 635.22206, saving model to ./model/weights-improvement-05-635.2221-bigger.hdf5\n",
      "Epoch 6/10\n",
      "2834/2834 [==============================] - 25s 9ms/step - loss: 622.1625 - acc: 0.7872 - val_loss: 1034.6529 - val_acc: 0.6800\n",
      "\n",
      "Epoch 00006: loss improved from 635.22206 to 622.16247, saving model to ./model/weights-improvement-06-622.1625-bigger.hdf5\n",
      "Epoch 7/10\n",
      "2834/2834 [==============================] - 25s 9ms/step - loss: 626.2575 - acc: 0.7865 - val_loss: 1035.7019 - val_acc: 0.6933\n",
      "\n",
      "Epoch 00007: loss did not improve from 622.16247\n",
      "Epoch 8/10\n",
      "2834/2834 [==============================] - 25s 9ms/step - loss: 624.0072 - acc: 0.7904 - val_loss: 1036.2390 - val_acc: 0.6733\n",
      "\n",
      "Epoch 00008: loss did not improve from 622.16247\n",
      "Epoch 9/10\n",
      "2834/2834 [==============================] - 25s 9ms/step - loss: 610.2704 - acc: 0.7925 - val_loss: 1029.2485 - val_acc: 0.6800\n",
      "\n",
      "Epoch 00009: loss improved from 622.16247 to 610.27040, saving model to ./model/weights-improvement-09-610.2704-bigger.hdf5\n",
      "Epoch 10/10\n",
      "2834/2834 [==============================] - 25s 9ms/step - loss: 606.6116 - acc: 0.7922 - val_loss: 1021.2282 - val_acc: 0.6667\n",
      "\n",
      "Epoch 00010: loss improved from 610.27040 to 606.61161, saving model to ./model/weights-improvement-10-606.6116-bigger.hdf5\n"
     ]
    }
   ],
   "source": [
    "his = model.fit(imgs, coo, batch_size=32, epochs=EPOCHS, callbacks=callbacks_list, validation_split=0.05)"
   ]
  },
  {
   "cell_type": "code",
   "execution_count": 35,
   "metadata": {},
   "outputs": [
    {
     "data": {
      "text/plain": [
       "[<matplotlib.lines.Line2D at 0x1f8c3237c88>]"
      ]
     },
     "execution_count": 35,
     "metadata": {},
     "output_type": "execute_result"
    },
    {
     "data": {
      "image/png": "[encoded data removed]",
      "text/plain": [
       "<Figure size 432x288 with 1 Axes>"
      ]
     },
     "metadata": {
      "needs_background": "light"
     },
     "output_type": "display_data"
    }
   ],
   "source": [
    "plt.plot(his.history['loss'])\n",
    "plt.plot(his.history['val_loss'])"
   ]
  },
  {
   "cell_type": "code",
   "execution_count": 87,
   "metadata": {},
   "outputs": [],
   "source": [
    "model1 = load_model(\"epochs40.h5\")"
   ]
  },
  {
   "cell_type": "code",
   "execution_count": 86,
   "metadata": {},
   "outputs": [],
   "source": [
    "model = load_model('model/weights-improvement-30-669.6679-bigger.hdf5')"
   ]
  },
  {
   "cell_type": "markdown",
   "metadata": {},
   "source": [
    "# Test"
   ]
  },
  {
   "cell_type": "code",
   "execution_count": 171,
   "metadata": {},
   "outputs": [],
   "source": [
    "test_img = \"./images/Persian_132.jpg\""
   ]
  },
  {
   "cell_type": "code",
   "execution_count": 172,
   "metadata": {},
   "outputs": [
    {
     "data": {
      "text/plain": [
       "True"
      ]
     },
     "execution_count": 172,
     "metadata": {},
     "output_type": "execute_result"
    }
   ],
   "source": [
    "test_img in my_paths"
   ]
  },
  {
   "cell_type": "code",
   "execution_count": 173,
   "metadata": {},
   "outputs": [],
   "source": [
    "i = image.load_img(test_img, color_mode='rgb')\n",
    "i = image.img_to_array(i)\n",
    "i = cv2.cvtColor(i, cv2.COLOR_BGR2RGB)\n",
    "i = i/255."
   ]
  },
  {
   "cell_type": "code",
   "execution_count": null,
   "metadata": {},
   "outputs": [],
   "source": []
  },
  {
   "cell_type": "code",
   "execution_count": null,
   "metadata": {},
   "outputs": [],
   "source": []
  },
  {
   "cell_type": "code",
   "execution_count": 174,
   "metadata": {},
   "outputs": [],
   "source": [
    "img = image.load_img(test_img, target_size=(IMAGE_SIZE,IMAGE_SIZE), color_mode='rgb')\n",
    "img = image.img_to_array(img)\n",
    "\n",
    "img_fea = preprocess_input(img)\n",
    "img_fea = np.expand_dims(img_fea, axis =0)"
   ]
  },
  {
   "cell_type": "code",
   "execution_count": null,
   "metadata": {},
   "outputs": [],
   "source": []
  },
  {
   "cell_type": "code",
   "execution_count": null,
   "metadata": {},
   "outputs": [],
   "source": []
  },
  {
   "cell_type": "code",
   "execution_count": null,
   "metadata": {},
   "outputs": [],
   "source": []
  },
  {
   "cell_type": "code",
   "execution_count": 175,
   "metadata": {},
   "outputs": [],
   "source": [
    "region = model.predict(x = img_fea)[0]"
   ]
  },
  {
   "cell_type": "code",
   "execution_count": 176,
   "metadata": {},
   "outputs": [
    {
     "data": {
      "text/plain": [
       "array([ 52.770367,  30.16234 , 246.71815 , 194.87389 ], dtype=float32)"
      ]
     },
     "execution_count": 176,
     "metadata": {},
     "output_type": "execute_result"
    }
   ],
   "source": [
    "region"
   ]
  },
  {
   "cell_type": "code",
   "execution_count": 177,
   "metadata": {},
   "outputs": [],
   "source": [
    "x0 = int(region[0]* i.shape[1]/IMAGE_SIZE)\n",
    "y0 = int(region[1]* i.shape[0]/IMAGE_SIZE)\n",
    "\n",
    "x1 =  int(region[2]* i.shape[1]/IMAGE_SIZE)\n",
    "y1 =  int(region[3]* i.shape[0]/IMAGE_SIZE)"
   ]
  },
  {
   "cell_type": "code",
   "execution_count": 178,
   "metadata": {},
   "outputs": [],
   "source": [
    "cv2.rectangle(i, (x0,y0), (x1,y1), (255,0,0), 2)\n",
    "cv2.imshow(\"image\", i)\n",
    "cv2.waitKey(0)\n",
    "cv2.destroyAllWindows()"
   ]
  },
  {
   "cell_type": "code",
   "execution_count": null,
   "metadata": {},
   "outputs": [],
   "source": []
  },
  {
   "cell_type": "code",
   "execution_count": 179,
   "metadata": {},
   "outputs": [],
   "source": []
  },
  {
   "cell_type": "code",
   "execution_count": null,
   "metadata": {},
   "outputs": [],
   "source": []
  }
 ],
 "metadata": {
  "kernelspec": {
   "display_name": "Python 3",
   "language": "python",
   "name": "python3"
  },
  "language_info": {
   "codemirror_mode": {
    "name": "ipython",
    "version": 3
   },
   "file_extension": ".py",
   "mimetype": "text/x-python",
   "name": "python",
   "nbconvert_exporter": "python",
   "pygments_lexer": "ipython3",
   "version": "3.7.3"
  }
 },
 "nbformat": 4,
 "nbformat_minor": 2
}
