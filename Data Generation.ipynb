{
 "cells": [
  {
   "cell_type": "code",
   "execution_count": 193,
   "metadata": {},
   "outputs": [],
   "source": [
    "import csv\n",
    "import cv2\n",
    "import glob\n",
    "import os\n",
    "import numpy as np\n",
    "import xml.etree.ElementTree as ET"
   ]
  },
  {
   "cell_type": "code",
   "execution_count": 194,
   "metadata": {},
   "outputs": [],
   "source": [
    "DATASET_FOLDER = \"./images/\"\n",
    "TRAIN_OUTPUT_FILE = \"./train.csv\"\n",
    "VALIDATION_OUTPUT_FILE = \"./validation.csv\""
   ]
  },
  {
   "cell_type": "code",
   "execution_count": 195,
   "metadata": {},
   "outputs": [],
   "source": [
    "SPLIT_RATIO = 0.8"
   ]
  },
  {
   "cell_type": "code",
   "execution_count": 196,
   "metadata": {},
   "outputs": [],
   "source": [
    "if not os.path.exists(DATASET_FOLDER):\n",
    "    print(\"Dataset not found\")"
   ]
  },
  {
   "cell_type": "code",
   "execution_count": 197,
   "metadata": {},
   "outputs": [],
   "source": [
    "class_names = {}\n",
    "k = 0\n",
    "output = []\n",
    "xml_files = glob.glob(\"./annotations/xmls/\"+'*.xml')"
   ]
  },
  {
   "cell_type": "code",
   "execution_count": 198,
   "metadata": {},
   "outputs": [
    {
     "data": {
      "text/plain": [
       "3686"
      ]
     },
     "execution_count": 198,
     "metadata": {},
     "output_type": "execute_result"
    }
   ],
   "source": [
    "len(xml_files)"
   ]
  },
  {
   "cell_type": "code",
   "execution_count": 200,
   "metadata": {},
   "outputs": [],
   "source": [
    "for i, xml_file in enumerate(xml_files):\n",
    "    tree = ET.parse(xml_file)\n",
    "    \n",
    "    path = os.path.join(DATASET_FOLDER, tree.findtext(\"filename\"))\n",
    "    \n",
    "    \n",
    "    height = int(tree.findtext(\"./size/height\"))\n",
    "    width = int(tree.findtext(\"./size/width\"))\n",
    "    xmin = int(tree.findtext(\"./object/bndbox/xmin\"))\n",
    "    ymin = int(tree.findtext(\"./object/bndbox/ymin\"))\n",
    "    xmax = int(tree.findtext(\"./object/bndbox/xmax\"))\n",
    "    ymax = int(tree.findtext(\"./object/bndbox/ymax\"))\n",
    "    \n",
    "    \n",
    "    basename = os.path.basename(path)\n",
    "    basename = os.path.splitext(basename)[0]\n",
    "    \n",
    "    class_name = basename[:basename.rfind(\"_\")].lower()\n",
    "    \n",
    "    if class_name not in class_names:\n",
    "        class_names[class_name] = k\n",
    "        k += 1\n",
    "    \n",
    "    output.append((path, height, width, xmin, ymin, xmax, ymax, class_name, class_names[class_name]))"
   ]
  },
  {
   "cell_type": "code",
   "execution_count": 210,
   "metadata": {},
   "outputs": [],
   "source": [
    "output.sort(key= lambda tup : tup[-1])"
   ]
  },
  {
   "cell_type": "code",
   "execution_count": null,
   "metadata": {
    "scrolled": true
   },
   "outputs": [],
   "source": []
  },
  {
   "cell_type": "code",
   "execution_count": null,
   "metadata": {},
   "outputs": [],
   "source": []
  },
  {
   "cell_type": "code",
   "execution_count": null,
   "metadata": {},
   "outputs": [],
   "source": []
  },
  {
   "cell_type": "code",
   "execution_count": 268,
   "metadata": {},
   "outputs": [],
   "source": [
    "lengths = []\n",
    "for row in output:\n",
    "    lengths.append(row[-2])"
   ]
  },
  {
   "cell_type": "code",
   "execution_count": 272,
   "metadata": {},
   "outputs": [],
   "source": [
    "lengths = list(np.unique(lengths, return_counts=True)[1])"
   ]
  },
  {
   "cell_type": "code",
   "execution_count": 300,
   "metadata": {},
   "outputs": [],
   "source": [
    "train_df = pd.DataFrame(columns=['path', 'height', 'width', 'xmin', 'ymin', 'xmax',' ymax', 'class_name', 'class_id'])\n",
    "test_df = pd.DataFrame(columns=['path', 'height', 'width', 'xmin', 'ymin', 'xmax',' ymax', 'class_name', 'class_id'])"
   ]
  },
  {
   "cell_type": "code",
   "execution_count": null,
   "metadata": {},
   "outputs": [],
   "source": []
  },
  {
   "cell_type": "markdown",
   "metadata": {},
   "source": [
    "# Training Preprocessed data to output file"
   ]
  },
  {
   "cell_type": "code",
   "execution_count": null,
   "metadata": {},
   "outputs": [],
   "source": []
  },
  {
   "cell_type": "code",
   "execution_count": 301,
   "metadata": {},
   "outputs": [
    {
     "name": "stdout",
     "output_type": "stream",
     "text": [
      "Done...\n"
     ]
    }
   ],
   "source": [
    "s = 0\n",
    "\n",
    "for c in lengths:\n",
    "    for i in range(c):\n",
    "\n",
    "        path, height, width, xmin, ymin, xmax, ymax, class_name, class_id = output[s]\n",
    "\n",
    "        if xmin >= xmax or ymin >= ymax or xmax > width or ymax > height or xmin < 0 or ymin < 0:\n",
    "            print(\"Warning: {} contains invalid box. Skipped...\".format(path))\n",
    "            continue\n",
    "            \n",
    "            \n",
    "\n",
    "        if i<= SPLIT_RATIO*c:\n",
    "            train_df = train_df.append({\n",
    "                'path': path, 'height': height, 'width': width, 'xmin' :xmin, 'ymin': ymin,\n",
    "                'xmax': xmax,' ymax' : ymax, 'class_name': class_name, 'class_id': class_id\n",
    "            }, ignore_index=True )\n",
    "            \n",
    "        else:\n",
    "            test_df = test_df.append({\n",
    "                'path': path, 'height': height, 'width': width, 'xmin' :xmin, 'ymin': ymin,\n",
    "                'xmax': xmax,' ymax' : ymax, 'class_name': class_name, 'class_id': class_id\n",
    "            }, ignore_index=True )\n",
    "        s += 1 \n",
    "\n",
    "print(\"Done...\")"
   ]
  },
  {
   "cell_type": "code",
   "execution_count": 303,
   "metadata": {},
   "outputs": [],
   "source": [
    "train_df.to_csv(TRAIN_OUTPUT_FILE, index=False)\n",
    "test_df.to_csv(VALIDATION_OUTPUT_FILE, index=False)"
   ]
  },
  {
   "cell_type": "code",
   "execution_count": null,
   "metadata": {},
   "outputs": [],
   "source": []
  },
  {
   "cell_type": "code",
   "execution_count": null,
   "metadata": {},
   "outputs": [],
   "source": []
  }
 ],
 "metadata": {
  "kernelspec": {
   "display_name": "Python 3",
   "language": "python",
   "name": "python3"
  },
  "language_info": {
   "codemirror_mode": {
    "name": "ipython",
    "version": 3
   },
   "file_extension": ".py",
   "mimetype": "text/x-python",
   "name": "python",
   "nbconvert_exporter": "python",
   "pygments_lexer": "ipython3",
   "version": "3.7.3"
  }
 },
 "nbformat": 4,
 "nbformat_minor": 2
}
